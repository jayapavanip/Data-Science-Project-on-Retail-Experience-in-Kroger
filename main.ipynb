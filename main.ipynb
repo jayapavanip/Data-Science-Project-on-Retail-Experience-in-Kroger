{
 "cells": [
  {
   "cell_type": "code",
   "execution_count": 38,
   "id": "395f3d17-25a3-42cf-8a8f-b650d7bcec6c",
   "metadata": {},
   "outputs": [
    {
     "name": "stdout",
     "output_type": "stream",
     "text": [
      "Index(['HSHD_NUM', 'L', 'AGE_RANGE', 'MARITAL', 'INCOME_RANGE', 'HOMEOWNER',\n",
      "       'HSHD_COMPOSITION', 'HH_SIZE', 'CHILDREN'],\n",
      "      dtype='object')\n",
      "Index(['BASKET_NUM', 'HSHD_NUM', 'PURCHASE_', 'PRODUCT_NUM', 'SPEND', 'UNITS',\n",
      "       'STORE_R', 'WEEK_NUM', 'YEAR'],\n",
      "      dtype='object')\n",
      "Index(['PRODUCT_NUM', 'DEPARTMENT', 'COMMODITY', 'BRAND_TY',\n",
      "       'NATURAL_ORGANIC_FLAG'],\n",
      "      dtype='object')\n"
     ]
    }
   ],
   "source": [
    "# Standardize column names\n",
    "households.columns = households.columns.str.strip().str.upper()\n",
    "transactions.columns = transactions.columns.str.strip().str.upper()\n",
    "products.columns = products.columns.str.strip().str.upper()\n",
    "\n",
    "# Verify column names\n",
    "print(households.columns)\n",
    "print(transactions.columns)\n",
    "print(products.columns)"
   ]
  },
  {
   "cell_type": "code",
   "execution_count": 39,
   "id": "1c4d76b1-02ba-4c03-b025-295490482caf",
   "metadata": {},
   "outputs": [],
   "source": [
    "import pandas as pd\n",
    "import numpy as np"
   ]
  },
  {
   "cell_type": "code",
   "execution_count": 40,
   "id": "c65f197b-cb86-4800-a99b-c84fd2fbdcf5",
   "metadata": {},
   "outputs": [
    {
     "name": "stdout",
     "output_type": "stream",
     "text": [
      "Households Missing Values:\n",
      " HSHD_NUM                                                                                                                                                                                                      0\n",
      "L                                                                                                                                                                                                             0\n",
      "AGE_RANGE                                                                                                                                                                                                    61\n",
      "MARITAL                                                                                                                                                                                                      67\n",
      "INCOME_RANGE                                                                                                                                                                                                 55\n",
      "HOMEOWNER                                                                                                                                                                                                    70\n",
      "HSHD_COMPOSITION                                                                                                                                                                                             55\n",
      "HH_SIZE                                                                                                                                                                                                      68\n",
      "CHILDREN                                                                                                                                                                                                    228\n",
      "dtype: int64\n",
      "Transactions Missing Values:\n",
      " BASKET_NUM                          0\n",
      "HSHD_NUM                            0\n",
      "PURCHASE_                           0\n",
      "PRODUCT_NUM                         0\n",
      "     SPEND                          0\n",
      "     UNITS                          0\n",
      "STORE_R                             0\n",
      "  WEEK_NUM                          0\n",
      "YEAR                                0\n",
      "dtype: int64\n",
      "Products Missing Values:\n",
      " PRODUCT_NUM                         0\n",
      "DEPARTMENT                          0\n",
      "COMMODITY                           0\n",
      "BRAND_TY                            0\n",
      "NATURAL_ORGANIC_FLAG                0\n",
      "dtype: int64\n"
     ]
    }
   ],
   "source": [
    "# Load the CSV files without specifying na_values\n",
    "households = pd.read_csv(\"400_households.csv\")\n",
    "transactions = pd.read_csv(\"400_transactions.csv\")\n",
    "products = pd.read_csv(\"400_products.csv\")\n",
    "\n",
    "# Replace \"null\" (and variations) with NaN explicitly\n",
    "households.replace(r'^\\s*null\\s*$', np.nan, regex=True, inplace=True)\n",
    "transactions.replace(r'^\\s*null\\s*$', np.nan, regex=True, inplace=True)\n",
    "products.replace(r'^\\s*null\\s*$', np.nan, regex=True, inplace=True)\n",
    "\n",
    "# Check missing values again\n",
    "print(\"Households Missing Values:\\n\", households.isnull().sum())\n",
    "print(\"Transactions Missing Values:\\n\", transactions.isnull().sum())\n",
    "print(\"Products Missing Values:\\n\", products.isnull().sum())"
   ]
  },
  {
   "cell_type": "code",
   "execution_count": 45,
   "id": "753f32c2-10e0-4c2a-9964-c15bd0408d53",
   "metadata": {},
   "outputs": [
    {
     "name": "stdout",
     "output_type": "stream",
     "text": [
      "Index(['HSHD_NUM', 'L', 'AGE_RANGE', 'MARITAL', 'INCOME_RANGE', 'HOMEOWNER',\n",
      "       'HSHD_COMPOSITION', 'HH_SIZE', 'CHILDREN'],\n",
      "      dtype='object')\n"
     ]
    }
   ],
   "source": [
    "\n",
    "households.rename(columns=lambda x: x.strip(), inplace=True)  # Removes extra spaces\n",
    "print(households.columns)"
   ]
  },
  {
   "cell_type": "code",
   "execution_count": 46,
   "id": "242e24cb-f6f8-4d13-a920-4f399364f375",
   "metadata": {},
   "outputs": [
    {
     "name": "stdout",
     "output_type": "stream",
     "text": [
      "Mean for CHILDREN (excluding zeros): 1.24\n",
      "Mean for HH_SIZE (excluding zeros): 2.14\n"
     ]
    },
    {
     "name": "stderr",
     "output_type": "stream",
     "text": [
      "C:\\Users\\HP\\AppData\\Local\\Temp\\ipykernel_10372\\952733488.py:17: FutureWarning: A value is trying to be set on a copy of a DataFrame or Series through chained assignment using an inplace method.\n",
      "The behavior will change in pandas 3.0. This inplace method will never work because the intermediate object on which we are setting values always behaves as a copy.\n",
      "\n",
      "For example, when doing 'df[col].method(value, inplace=True)', try using 'df.method({col: value}, inplace=True)' or df[col] = df[col].method(value) instead, to perform the operation inplace on the original object.\n",
      "\n",
      "\n",
      "  households['CHILDREN'].fillna(children_mean, inplace=True)\n",
      "C:\\Users\\HP\\AppData\\Local\\Temp\\ipykernel_10372\\952733488.py:18: FutureWarning: A value is trying to be set on a copy of a DataFrame or Series through chained assignment using an inplace method.\n",
      "The behavior will change in pandas 3.0. This inplace method will never work because the intermediate object on which we are setting values always behaves as a copy.\n",
      "\n",
      "For example, when doing 'df[col].method(value, inplace=True)', try using 'df.method({col: value}, inplace=True)' or df[col] = df[col].method(value) instead, to perform the operation inplace on the original object.\n",
      "\n",
      "\n",
      "  households['HH_SIZE'].fillna(hh_size_mean, inplace=True)\n"
     ]
    }
   ],
   "source": [
    "# Handling missing data for households\n",
    "\n",
    "# Convert CHILDREN and HH_SIZE to numeric\n",
    "households['CHILDREN'] = pd.to_numeric(households['CHILDREN'], errors='coerce')\n",
    "households['HH_SIZE'] = pd.to_numeric(households['HH_SIZE'], errors='coerce')\n",
    "\n",
    "# Calculate the mean excluding zero values for CHILDREN\n",
    "children_mean = households.loc[households['CHILDREN'] > 0, 'CHILDREN'].mean()\n",
    "\n",
    "# Calculate the mean excluding zero values for HH_SIZE\n",
    "hh_size_mean = households.loc[households['HH_SIZE'] > 0, 'HH_SIZE'].mean()\n",
    "\n",
    "children_mean = round(children_mean, 2)\n",
    "hh_size_mean = round(hh_size_mean, 2)\n",
    "\n",
    "# Replace missing values in CHILDREN and HH_SIZE with their respective means\n",
    "households['CHILDREN'].fillna(children_mean, inplace=True)\n",
    "households['HH_SIZE'].fillna(hh_size_mean, inplace=True)\n",
    "\n",
    "print(f\"Mean for CHILDREN (excluding zeros): {children_mean}\")\n",
    "print(f\"Mean for HH_SIZE (excluding zeros): {hh_size_mean}\")\n",
    "\n",
    "# Replace missing values in categorical columns with 'Unknown'\n",
    "households.fillna({\n",
    "    'AGE_RANGE': 'Unknown',\n",
    "    'MARITAL': 'Unknown',\n",
    "    'INCOME_RANGE': 'Unknown',\n",
    "    'HOMEOWNER': 'Unknown',\n",
    "    'HSHD_COMPOSITION': 'Unknown'\n",
    "}, inplace=True)"
   ]
  },
  {
   "cell_type": "code",
   "execution_count": 47,
   "id": "cebb5b4d-c5f2-42cb-9bc5-c79d4a4ef7ca",
   "metadata": {},
   "outputs": [
    {
     "name": "stdout",
     "output_type": "stream",
     "text": [
      "Households Missing Values After Replacement:\n",
      " HSHD_NUM            0\n",
      "L                   0\n",
      "AGE_RANGE           0\n",
      "MARITAL             0\n",
      "INCOME_RANGE        0\n",
      "HOMEOWNER           0\n",
      "HSHD_COMPOSITION    0\n",
      "HH_SIZE             0\n",
      "CHILDREN            0\n",
      "dtype: int64\n",
      "Transactions Missing Values After Replacement::\n",
      " BASKET_NUM                          0\n",
      "HSHD_NUM                            0\n",
      "PURCHASE_                           0\n",
      "PRODUCT_NUM                         0\n",
      "     SPEND                          0\n",
      "     UNITS                          0\n",
      "STORE_R                             0\n",
      "  WEEK_NUM                          0\n",
      "YEAR                                0\n",
      "dtype: int64\n",
      "Products Missing Values After Replacement::\n",
      " PRODUCT_NUM                         0\n",
      "DEPARTMENT                          0\n",
      "COMMODITY                           0\n",
      "BRAND_TY                            0\n",
      "NATURAL_ORGANIC_FLAG                0\n",
      "dtype: int64\n"
     ]
    }
   ],
   "source": [
    "# Verify no missing values remain after replacement\n",
    "print(\"Households Missing Values After Replacement:\\n\", households.isnull().sum())\n",
    "print(\"Transactions Missing Values After Replacement::\\n\", transactions.isnull().sum())\n",
    "print(\"Products Missing Values After Replacement::\\n\", products.isnull().sum())\n",
    "\n"
   ]
  },
  {
   "cell_type": "code",
   "execution_count": 48,
   "id": "60380b79-1a00-417b-982a-74e9d555ee2e",
   "metadata": {},
   "outputs": [],
   "source": [
    "households.to_csv(\"cleaned_households.csv\", index=False)\n",
    "transactions.to_csv(\"cleaned_transactions.csv\", index=False)\n",
    "products.to_csv(\"cleaned_products.csv\", index=False)"
   ]
  },
  {
   "cell_type": "code",
   "execution_count": null,
   "id": "51e7487e-0f9d-463d-b4bf-f1e67193ea28",
   "metadata": {},
   "outputs": [],
   "source": []
  }
 ],
 "metadata": {
  "kernelspec": {
   "display_name": "Python 3 (ipykernel)",
   "language": "python",
   "name": "python3"
  },
  "language_info": {
   "codemirror_mode": {
    "name": "ipython",
    "version": 3
   },
   "file_extension": ".py",
   "mimetype": "text/x-python",
   "name": "python",
   "nbconvert_exporter": "python",
   "pygments_lexer": "ipython3",
   "version": "3.12.6"
  }
 },
 "nbformat": 4,
 "nbformat_minor": 5
}
